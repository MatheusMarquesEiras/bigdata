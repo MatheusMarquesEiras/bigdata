{
 "cells": [
  {
   "cell_type": "code",
   "execution_count": 84,
   "id": "0476fa56",
   "metadata": {},
   "outputs": [],
   "source": [
    "import pandas as pd\n",
    "import ast"
   ]
  },
  {
   "cell_type": "code",
   "execution_count": null,
   "id": "74e6c7a1",
   "metadata": {},
   "outputs": [],
   "source": [
    "en = pd.read_csv('./csv/MultL/train_en.csv')\n",
    "es = pd.read_csv('./csv/MultL/train_es.csv')\n",
    "pt = pd.read_csv('./csv/MultL/train_pt.csv')"
   ]
  },
  {
   "cell_type": "code",
   "execution_count": null,
   "id": "c212463d",
   "metadata": {},
   "outputs": [],
   "source": [
    "multL = pd.concat([en, es, pt], ignore_index=True)"
   ]
  },
  {
   "cell_type": "code",
   "execution_count": null,
   "id": "b89ea298",
   "metadata": {},
   "outputs": [],
   "source": [
    "def fix_list(text: str):\n",
    "    return ast.literal_eval(text.replace(' ', ','))"
   ]
  },
  {
   "cell_type": "code",
   "execution_count": null,
   "id": "a6cd52c4",
   "metadata": {},
   "outputs": [],
   "source": [
    "multL['tokens'] = multL['tokens'].apply(fix_list)\n",
    "multL['ner_tags'] = multL['ner_tags'].apply(fix_list)"
   ]
  },
  {
   "cell_type": "code",
   "execution_count": null,
   "id": "e8d0e083",
   "metadata": {},
   "outputs": [],
   "source": [
    "multL.to_parquet(\"./parquet/train_multilingual.parquet\", engine=\"fastparquet\", index=False)\n"
   ]
  },
  {
   "cell_type": "code",
   "execution_count": 92,
   "id": "b9bb1f38",
   "metadata": {},
   "outputs": [],
   "source": [
    "TEXT = 'validation'"
   ]
  },
  {
   "cell_type": "code",
   "execution_count": 93,
   "id": "d192b8be",
   "metadata": {},
   "outputs": [],
   "source": [
    "LeNER = pd.read_csv(f'./csv/LeNER-Br/{TEXT}.csv')\n",
    "Harem = pd.read_csv(f'./csv/HAREM/{TEXT}.csv')"
   ]
  },
  {
   "cell_type": "code",
   "execution_count": 94,
   "id": "3fc8807d",
   "metadata": {},
   "outputs": [],
   "source": [
    "LeNER['tokens'] = LeNER['tokens'].apply(fix_list)\n",
    "Harem['tokens'] = Harem['tokens'].apply(fix_list)"
   ]
  },
  {
   "cell_type": "code",
   "execution_count": 95,
   "id": "9b0658ac",
   "metadata": {},
   "outputs": [],
   "source": [
    "# Descobrir se há valores do tipo ellipsis\n",
    "LeNER['tokens'] = LeNER['tokens'].apply(lambda x: isinstance(x, type(...)))\n"
   ]
  },
  {
   "cell_type": "code",
   "execution_count": 96,
   "id": "48883291",
   "metadata": {},
   "outputs": [],
   "source": [
    "def clean_ellipsis(x):\n",
    "    if isinstance(x, list):\n",
    "        return [\"\" if item is Ellipsis else item for item in x]\n",
    "    return x\n",
    "\n",
    "Harem['tokens'] = Harem['tokens'].apply(clean_ellipsis)\n"
   ]
  },
  {
   "cell_type": "code",
   "execution_count": 97,
   "id": "f0e0aa57",
   "metadata": {},
   "outputs": [],
   "source": [
    "LeNER.to_parquet(f\"./parquet/LeNER-Br/{TEXT}_LeNER_BR.parquet\", engine=\"fastparquet\", index=False)\n",
    "Harem.to_parquet(f\"./parquet/HAREM/{TEXT}_Harem_BR.parquet\", engine=\"fastparquet\", index=False)"
   ]
  },
  {
   "cell_type": "code",
   "execution_count": null,
   "id": "41329f25",
   "metadata": {},
   "outputs": [],
   "source": [
    "prqt = pd.read_parquet(f\"./parquet/MultL/{TEXT}_multilingual.parquet\", engine=\"fastparquet\")"
   ]
  },
  {
   "cell_type": "code",
   "execution_count": 57,
   "id": "161f427a",
   "metadata": {},
   "outputs": [
    {
     "data": {
      "text/plain": [
       "Index(['tokens', 'ner_tags', 'lang'], dtype='object')"
      ]
     },
     "execution_count": 57,
     "metadata": {},
     "output_type": "execute_result"
    }
   ],
   "source": [
    "prqt.columns"
   ]
  }
 ],
 "metadata": {
  "kernelspec": {
   "display_name": "venv (3.10.0)",
   "language": "python",
   "name": "python3"
  },
  "language_info": {
   "codemirror_mode": {
    "name": "ipython",
    "version": 3
   },
   "file_extension": ".py",
   "mimetype": "text/x-python",
   "name": "python",
   "nbconvert_exporter": "python",
   "pygments_lexer": "ipython3",
   "version": "3.10.0"
  }
 },
 "nbformat": 4,
 "nbformat_minor": 5
}
