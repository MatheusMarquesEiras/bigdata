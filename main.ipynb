{
 "cells": [
  {
   "cell_type": "code",
   "execution_count": 31,
   "id": "0476fa56",
   "metadata": {},
   "outputs": [],
   "source": [
    "import pandas as pd\n",
    "import ast"
   ]
  },
  {
   "cell_type": "code",
   "execution_count": 61,
   "id": "74e6c7a1",
   "metadata": {},
   "outputs": [],
   "source": [
    "en = pd.read_csv('val_en.csv')\n",
    "es = pd.read_csv('val_es.csv')\n",
    "pt = pd.read_csv('val_pt.csv')"
   ]
  },
  {
   "cell_type": "code",
   "execution_count": 63,
   "id": "c212463d",
   "metadata": {},
   "outputs": [],
   "source": [
    "multL = pd.concat([en, es, pt], ignore_index=True)"
   ]
  },
  {
   "cell_type": "code",
   "execution_count": 56,
   "id": "a7796635",
   "metadata": {},
   "outputs": [],
   "source": [
    "def fix_list1(text: str):\n",
    "    return ast.literal_eval(text.replace(\"' '\", \"','\"))"
   ]
  },
  {
   "cell_type": "code",
   "execution_count": 57,
   "id": "b89ea298",
   "metadata": {},
   "outputs": [],
   "source": [
    "def fix_list2(text: str):\n",
    "    return ast.literal_eval(text.replace(' ', ','))"
   ]
  },
  {
   "cell_type": "code",
   "execution_count": 64,
   "id": "a6cd52c4",
   "metadata": {},
   "outputs": [],
   "source": [
    "multL['tokens'] = multL['tokens'].apply(fix_list1)\n",
    "multL['ner_tags'] = multL['ner_tags'].apply(fix_list2)"
   ]
  },
  {
   "cell_type": "code",
   "execution_count": 65,
   "id": "e8d0e083",
   "metadata": {},
   "outputs": [],
   "source": [
    "multL.to_parquet(\"val_multilingual.parquet\", engine=\"fastparquet\", index=False)\n"
   ]
  }
 ],
 "metadata": {
  "kernelspec": {
   "display_name": "venv (3.10.0)",
   "language": "python",
   "name": "python3"
  },
  "language_info": {
   "codemirror_mode": {
    "name": "ipython",
    "version": 3
   },
   "file_extension": ".py",
   "mimetype": "text/x-python",
   "name": "python",
   "nbconvert_exporter": "python",
   "pygments_lexer": "ipython3",
   "version": "3.10.0"
  }
 },
 "nbformat": 4,
 "nbformat_minor": 5
}
