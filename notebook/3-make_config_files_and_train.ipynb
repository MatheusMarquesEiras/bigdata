{
 "cells": [
  {
   "cell_type": "markdown",
   "id": "0038943b",
   "metadata": {},
   "source": [
    "# ARQUIVO DE CONFIG EFFICIENCY"
   ]
  },
  {
   "cell_type": "code",
   "execution_count": 1,
   "id": "a54511fe",
   "metadata": {},
   "outputs": [
    {
     "name": "stdout",
     "output_type": "stream",
     "text": [
      "\u001b[38;5;4mℹ Generated config template specific for your use case\u001b[0m\n",
      "- Language: pt\n",
      "- Pipeline: ner\n",
      "- Optimize for: efficiency\n",
      "- Hardware: CPU\n",
      "- Transformer: None\n",
      "\u001b[38;5;2m✔ Auto-filled config with all values\u001b[0m\n",
      "\u001b[38;5;2m✔ Saved config\u001b[0m\n",
      "..\\config\\config.cfg\n",
      "You can now add your data and train your pipeline:\n",
      "python -m spacy train config.cfg --paths.train ./train.spacy --paths.dev ./dev.spacy\n"
     ]
    }
   ],
   "source": [
    "!python -m spacy init config ../config/config.cfg \\\n",
    "    --lang pt \\\n",
    "    --pipeline tok2vec,ner \\\n",
    "    --optimize efficiency \\\n",
    "    --force"
   ]
  },
  {
   "cell_type": "markdown",
   "id": "946d239d",
   "metadata": {},
   "source": [
    "# ARQUIVO DE CONFIG ACCURACY"
   ]
  },
  {
   "cell_type": "code",
   "execution_count": 2,
   "id": "826780b4",
   "metadata": {},
   "outputs": [
    {
     "name": "stdout",
     "output_type": "stream",
     "text": [
      "\u001b[38;5;4mℹ Generated config template specific for your use case\u001b[0m\n",
      "- Language: pt\n",
      "- Pipeline: ner\n",
      "- Optimize for: accuracy\n",
      "- Hardware: GPU\n",
      "- Transformer: neuralmind/bert-base-portuguese-cased\n",
      "\u001b[38;5;2m✔ Auto-filled config with all values\u001b[0m\n",
      "\u001b[38;5;2m✔ Saved config\u001b[0m\n",
      "..\\config\\config_trf.cfg\n",
      "You can now add your data and train your pipeline:\n",
      "python -m spacy train config_trf.cfg --paths.train ./train.spacy --paths.dev ./dev.spacy\n"
     ]
    }
   ],
   "source": [
    "!python -m spacy init config \\\n",
    "    ../config/config_trf.cfg \\\n",
    "    --lang pt \\\n",
    "    --pipeline transformer,ner \\\n",
    "    --optimize accuracy \\\n",
    "    --force \\\n",
    "    --gpu"
   ]
  },
  {
   "cell_type": "markdown",
   "id": "d43468f7",
   "metadata": {},
   "source": [
    "# INICIAR TREINAMENTO EFFICIENCY"
   ]
  },
  {
   "cell_type": "code",
   "execution_count": 3,
   "id": "f5a50fc6",
   "metadata": {},
   "outputs": [
    {
     "name": "stdout",
     "output_type": "stream",
     "text": [
      "\u001b[38;5;2m✔ Created output directory: ..\\models\\model_tok2vec\u001b[0m\n",
      "\u001b[38;5;4mℹ Saving to output directory: ..\\models\\model_tok2vec\u001b[0m\n",
      "\u001b[38;5;4mℹ Using GPU: 0\u001b[0m\n",
      "\u001b[1m\n",
      "=========================== Initializing pipeline ===========================\u001b[0m\n",
      "\u001b[38;5;2m✔ Initialized pipeline\u001b[0m\n",
      "\u001b[1m\n",
      "============================= Training pipeline =============================\u001b[0m\n",
      "\u001b[38;5;4mℹ Pipeline: ['tok2vec', 'ner']\u001b[0m\n",
      "\u001b[38;5;4mℹ Initial learn rate: 0.001\u001b[0m\n",
      "E    #       LOSS TOK2VEC  LOSS NER  ENTS_F  ENTS_P  ENTS_R  SCORE \n",
      "---  ------  ------------  --------  ------  ------  ------  ------\n",
      "  0       0          0.00     41.72    0.00    0.00    0.00    0.00\n",
      "  0     200        188.15   6360.56   41.98   61.34   31.90    0.42\n",
      "  0     400        531.42   5271.20   47.10   65.27   36.84    0.47\n",
      "  0     600        656.35   5700.36   54.29   71.79   43.66    0.54\n",
      "  0     800       7073.51   7270.89   63.17   74.27   54.96    0.63\n",
      "  0    1000      16818.06   8004.59   64.42   77.47   55.13    0.64\n",
      "  0    1200       2935.52   8559.10   69.28   74.79   64.53    0.69\n",
      "  0    1400       6971.88   9946.92   73.91   78.57   69.77    0.74\n",
      "  0    1600       2705.40  12351.96   71.46   80.54   64.23    0.71\n",
      "  0    1800       3560.36  11697.24   74.72   85.68   66.24    0.75\n",
      "  0    2000       3082.96  14516.92   79.16   83.33   75.39    0.79\n",
      "  0    2200       4125.38  13926.95   77.46   87.58   69.44    0.77\n",
      "  0    2400       5063.35  17861.27   82.39   82.56   82.22    0.82\n",
      "  0    2600       4391.30  16736.38   82.67   87.51   78.34    0.83\n",
      "  0    2800       4291.27  17349.99   83.28   85.72   80.98    0.83\n",
      "  0    3000       4714.97  15518.28   83.76   87.46   80.36    0.84\n",
      "  0    3200       4799.26  16496.74   82.98   89.85   77.08    0.83\n",
      "  0    3400       7881.87  14700.90   84.15   88.20   80.46    0.84\n",
      "  0    3600       4706.13  13808.52   84.71   88.91   80.88    0.85\n",
      "  0    3800      15718.36  16517.98   84.89   89.63   80.62    0.85\n",
      "  1    4000       4691.49  13418.23   85.95   87.71   84.26    0.86\n",
      "  1    4200       5552.12  13979.01   84.97   89.81   80.62    0.85\n",
      "  1    4400      15321.75  11741.49   85.91   89.11   82.94    0.86\n",
      "  1    4600       5890.84  12355.74   84.62   90.29   79.62    0.85\n",
      "  1    4800      21843.09  11766.61   86.41   87.20   85.62    0.86\n",
      "  1    5000       5783.48  12612.52   83.72   91.23   77.36    0.84\n",
      "  1    5200       5407.16  10932.80   84.52   91.72   78.38    0.85\n",
      "  1    5400       8555.75  15191.02   85.98   90.27   82.08    0.86\n",
      "  1    5600       5516.26  11117.91   85.76   90.44   81.53    0.86\n",
      "  1    5800       8337.83  12340.02   86.66   88.59   84.82    0.87\n",
      "  1    6000       5375.37  10706.14   86.24   89.94   82.84    0.86\n",
      "  1    6200       5207.27  11019.99   86.57   90.71   82.78    0.87\n",
      "  2    6400       5593.33  10234.45   86.98   90.60   83.64    0.87\n",
      "  2    6600      40276.11  10090.86   86.47   91.33   82.10    0.86\n",
      "  2    6800       5551.39   9282.66   86.46   90.93   82.41    0.86\n",
      "  2    7000       7403.87   9886.26   87.00   90.85   83.46    0.87\n",
      "  2    7200      16441.33  11391.26   84.92   92.13   78.76    0.85\n",
      "  2    7400     154989.92  10793.81   87.00   90.82   83.50    0.87\n",
      "  2    7600      16924.65  10661.85   86.52   91.24   82.26    0.87\n",
      "  2    7800       8706.50   9751.97   86.55   91.03   82.49    0.87\n",
      "  2    8000       7121.96  10412.01   87.28   89.91   84.80    0.87\n",
      "  2    8200       6084.71   8706.52   87.51   88.46   86.57    0.88\n",
      "  2    8400       8836.99  10704.10   87.67   89.51   85.90    0.88\n",
      "  2    8600      10525.43   9159.76   86.26   91.35   81.71    0.86\n",
      "  3    8800       9135.79   8933.25   87.80   90.12   85.59    0.88\n",
      "  3    9000      15536.02   8211.16   87.03   92.06   82.53    0.87\n",
      "  3    9200      27173.03   8156.51   86.42   92.24   81.29    0.86\n",
      "  3    9400       7164.95   7767.00   87.15   91.66   83.05    0.87\n",
      "  3    9600      12266.14   9521.61   86.18   92.12   80.96    0.86\n",
      "  3    9800      60072.15   9300.09   87.23   87.43   87.03    0.87\n",
      "  3   10000      10726.98   8474.94   87.87   91.23   84.75    0.88\n",
      "  3   10200       9558.40   8878.61   87.21   91.54   83.27    0.87\n",
      "  3   10400      10184.90   9173.69   87.88   89.48   86.34    0.88\n",
      "  3   10600      54180.83   8373.83   87.49   91.43   83.88    0.87\n",
      "  3   10800       8091.27   8416.69   87.92   89.51   86.38    0.88\n",
      "  3   11000      10211.80  10409.31   87.38   92.36   82.91    0.87\n",
      "  3   11200      33425.48   8410.56   87.82   89.15   86.52    0.88\n",
      "  4   11400     114150.93   8093.34   88.05   90.02   86.16    0.88\n",
      "  4   11600      12065.65   6687.89   87.77   90.81   84.93    0.88\n",
      "  4   11800       8778.64   6311.45   87.85   88.47   87.24    0.88\n",
      "  4   12000      43387.37   7323.08   87.64   91.22   84.34    0.88\n",
      "  4   12200       9499.12   8459.23   85.56   92.84   79.34    0.86\n",
      "  4   12400      50729.43   7520.62   88.13   91.59   84.92    0.88\n",
      "  4   12600      10899.07   9004.04   87.17   92.69   82.27    0.87\n",
      "  4   12800      11318.50   8261.40   88.25   90.45   86.15    0.88\n",
      "  4   13000      11874.64   9039.10   87.70   91.24   84.43    0.88\n",
      "  4   13200       7883.44   6843.93   87.77   91.44   84.38    0.88\n",
      "  4   13400      22507.33   9918.07   87.87   91.03   84.92    0.88\n",
      "  4   13600       7461.74   7224.68   87.57   92.47   83.16    0.88\n",
      "  5   13800       8364.48   6750.93   87.51   92.26   83.23    0.88\n",
      "  5   14000      55009.12   5937.65   88.29   90.63   86.06    0.88\n",
      "  5   14200      14794.17   7417.15   88.03   89.02   87.06    0.88\n",
      "  5   14400       9989.74   7464.73   87.99   90.12   85.96    0.88\n",
      "  5   14600      11523.60   6159.74   88.00   90.27   85.84    0.88\n",
      "  5   14800      24685.35   7515.93   88.15   90.19   86.19    0.88\n",
      "  5   15000      10222.55   7859.12   87.65   91.63   84.00    0.88\n",
      "  5   15200      14711.29   7221.14   87.81   91.75   84.19    0.88\n",
      "  5   15400       9839.60   7242.94   88.29   90.38   86.29    0.88\n",
      "  5   15600       9880.56   7856.00   87.56   91.78   83.72    0.88\n",
      "\u001b[38;5;2m✔ Saved pipeline to output directory\u001b[0m\n",
      "..\\models\\model_tok2vec\\model-last\n"
     ]
    }
   ],
   "source": [
    "!python -m spacy train ../config/config.cfg \\\n",
    "  --output ../models/model_tok2vec \\\n",
    "  --paths.train ../spacy/train.spacy \\\n",
    "  --paths.dev ../spacy/dev.spacy \\\n",
    "  --gpu-id 0"
   ]
  },
  {
   "cell_type": "markdown",
   "id": "bf8e7f78",
   "metadata": {},
   "source": [
    "# INICIAR TREINAMENTO ACCURACY"
   ]
  },
  {
   "cell_type": "code",
   "execution_count": 4,
   "id": "78f7ae01",
   "metadata": {},
   "outputs": [
    {
     "name": "stdout",
     "output_type": "stream",
     "text": [
      "\u001b[38;5;2m✔ Created output directory: ..\\models\\model_trf_gpu\u001b[0m\n",
      "\u001b[38;5;4mℹ Saving to output directory: ..\\models\\model_trf_gpu\u001b[0m\n",
      "\u001b[38;5;4mℹ Using GPU: 0\u001b[0m\n",
      "\u001b[1m\n",
      "=========================== Initializing pipeline ===========================\u001b[0m\n",
      "\u001b[38;5;2m✔ Initialized pipeline\u001b[0m\n",
      "\u001b[1m\n",
      "============================= Training pipeline =============================\u001b[0m\n",
      "\u001b[38;5;4mℹ Pipeline: ['transformer', 'ner']\u001b[0m\n",
      "\u001b[38;5;4mℹ Initial learn rate: 0.0\u001b[0m\n",
      "E    #       LOSS TRANS...  LOSS NER  ENTS_F  ENTS_P  ENTS_R  SCORE \n",
      "---  ------  -------------  --------  ------  ------  ------  ------\n",
      "  0       0         160.78    293.29   22.97   14.29   58.47    0.23\n",
      "  0     200       69500.26  68946.38   93.92   93.91   93.93    0.94\n",
      "  0     400       63546.72   8065.00   95.14   95.32   94.96    0.95\n",
      "  0     600        7067.41   5934.32   95.73   94.92   96.56    0.96\n",
      "  0     800       10302.60   4880.69   96.43   96.08   96.79    0.96\n",
      "  0    1000        3437.13   4080.85   96.91   97.09   96.73    0.97\n",
      "  0    1200        2507.58   3953.32   96.81   96.61   97.01    0.97\n",
      "  0    1400        5017.95   3894.36   97.12   97.29   96.96    0.97\n",
      "  0    1600        2360.69   3566.43   97.10   96.84   97.37    0.97\n",
      "  1    1800        1903.30   3068.74   97.09   97.22   96.95    0.97\n",
      "  1    2000        1422.40   2272.22   97.27   97.04   97.50    0.97\n",
      "  1    2200        1489.85   2498.81   97.47   97.62   97.32    0.97\n",
      "  1    2400        1328.63   2312.79   97.46   97.35   97.57    0.97\n",
      "  1    2600        1461.67   2414.55   97.37   97.70   97.04    0.97\n",
      "  1    2800        1140.06   1906.28   97.45   97.39   97.51    0.97\n",
      "  1    3000        1258.68   2175.16   97.51   97.34   97.69    0.98\n",
      "  1    3200        1660.59   2446.17   97.61   97.75   97.48    0.98\n",
      "  2    3400        1232.95   2058.87   97.56   97.45   97.67    0.98\n",
      "  2    3600         858.68   1473.27   97.64   97.58   97.70    0.98\n",
      "  2    3800         903.56   1466.39   97.57   97.51   97.62    0.98\n",
      "  2    4000         892.82   1378.78   97.77   97.64   97.90    0.98\n",
      "  2    4200         831.96   1362.12   97.52   97.45   97.59    0.98\n",
      "  2    4400         920.06   1480.80   97.75   97.80   97.69    0.98\n",
      "  2    4600         956.86   1565.62   97.62   97.48   97.75    0.98\n",
      "  2    4800         885.48   1464.91   97.60   97.49   97.72    0.98\n",
      "  2    5000         932.83   1514.81   97.67   97.39   97.95    0.98\n",
      "  3    5200         744.15   1262.96   97.55   97.72   97.38    0.98\n",
      "  3    5400         751.74   1122.66   97.64   97.28   98.01    0.98\n",
      "  3    5600         694.18   1032.24   97.74   97.61   97.88    0.98\n",
      "\u001b[38;5;2m✔ Saved pipeline to output directory\u001b[0m\n",
      "..\\models\\model_trf_gpu\\model-last\n"
     ]
    }
   ],
   "source": [
    "!python -m spacy train ../config/config_trf.cfg \\\n",
    "  --output ../models/model_trf_gpu \\\n",
    "  --paths.train ../spacy/train.spacy \\\n",
    "  --paths.dev ../spacy/dev.spacy \\\n",
    "  --gpu-id 0"
   ]
  },
  {
   "cell_type": "markdown",
   "id": "4ecd8871",
   "metadata": {},
   "source": [
    "# Inferencia"
   ]
  },
  {
   "cell_type": "code",
   "execution_count": 14,
   "id": "d3cfa216",
   "metadata": {},
   "outputs": [],
   "source": [
    "text = \"\"\"\n",
    "Maria Santos se mudou para São Paulo.\n",
    "\"\"\""
   ]
  },
  {
   "cell_type": "code",
   "execution_count": 15,
   "id": "03b1d2ac",
   "metadata": {},
   "outputs": [
    {
     "name": "stdout",
     "output_type": "stream",
     "text": [
      "Maria PER\n",
      "Santos PER\n",
      "São LOC\n",
      "Paulo LOC\n"
     ]
    }
   ],
   "source": [
    "import spacy\n",
    "\n",
    "nlp = spacy.load(\"../models/model_trf_gpu/model-best\")\n",
    "doc = nlp(text)\n",
    "\n",
    "for ent in doc.ents:\n",
    "    print(ent.text, ent.label_)"
   ]
  },
  {
   "cell_type": "markdown",
   "id": "a72b52ff",
   "metadata": {},
   "source": [
    "# Data\n",
    "\n",
    "- tempo treinamento tok2vec => 36 min 34.4 segundos \n",
    "- tempo treinamento transformers => 130 min 19.4 segundos"
   ]
  }
 ],
 "metadata": {
  "kernelspec": {
   "display_name": "venv",
   "language": "python",
   "name": "python3"
  },
  "language_info": {
   "codemirror_mode": {
    "name": "ipython",
    "version": 3
   },
   "file_extension": ".py",
   "mimetype": "text/x-python",
   "name": "python",
   "nbconvert_exporter": "python",
   "pygments_lexer": "ipython3",
   "version": "3.10.0"
  }
 },
 "nbformat": 4,
 "nbformat_minor": 5
}
