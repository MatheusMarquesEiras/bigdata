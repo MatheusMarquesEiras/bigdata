{
 "cells": [
  {
   "cell_type": "markdown",
   "id": "0038943b",
   "metadata": {},
   "source": [
    "# ARQUIVO DE CONFIG CPU"
   ]
  },
  {
   "cell_type": "code",
   "execution_count": 5,
   "id": "a54511fe",
   "metadata": {},
   "outputs": [
    {
     "name": "stdout",
     "output_type": "stream",
     "text": [
      "\u001b[38;5;4mℹ Generated config template specific for your use case\u001b[0m\n",
      "- Language: pt\n",
      "- Pipeline: ner\n",
      "- Optimize for: efficiency\n",
      "- Hardware: CPU\n",
      "- Transformer: None\n",
      "\u001b[38;5;2m✔ Auto-filled config with all values\u001b[0m\n",
      "\u001b[38;5;2m✔ Saved config\u001b[0m\n",
      "config.cfg\n",
      "You can now add your data and train your pipeline:\n",
      "python -m spacy train config.cfg --paths.train ./train.spacy --paths.dev ./dev.spacy\n"
     ]
    }
   ],
   "source": [
    "!python -m spacy init config ./config.cfg --lang pt --pipeline tok2vec,ner --optimize efficiency --force"
   ]
  },
  {
   "cell_type": "markdown",
   "id": "dcdd12ad",
   "metadata": {},
   "source": [
    "# INICIAR TREINAMENTO "
   ]
  },
  {
   "cell_type": "code",
   "execution_count": 8,
   "id": "d1d1ef66",
   "metadata": {},
   "outputs": [
    {
     "name": "stdout",
     "output_type": "stream",
     "text": [
      "\u001b[38;5;4mℹ Saving to output directory: model_tok2vec\u001b[0m\n",
      "\u001b[38;5;4mℹ Using CPU\u001b[0m\n",
      "\u001b[38;5;4mℹ To switch to GPU 0, use the option: --gpu-id 0\u001b[0m\n",
      "\u001b[1m\n",
      "=========================== Initializing pipeline ===========================\u001b[0m\n",
      "\u001b[38;5;2m✔ Initialized pipeline\u001b[0m\n",
      "\u001b[1m\n",
      "============================= Training pipeline =============================\u001b[0m\n",
      "\u001b[38;5;4mℹ Pipeline: ['tok2vec', 'ner']\u001b[0m\n",
      "\u001b[38;5;4mℹ Initial learn rate: 0.001\u001b[0m\n",
      "E    #       LOSS TOK2VEC  LOSS NER  ENTS_F  ENTS_P  ENTS_R  SCORE \n",
      "---  ------  ------------  --------  ------  ------  ------  ------\n",
      "  0       0          0.00     54.50    0.00    0.00    0.00    0.00\n",
      "  0     200         54.48   2333.78   64.14   65.84   62.53    0.64\n",
      "  0     400         95.16   1534.57   75.74   75.81   75.67    0.76\n",
      "  0     600        122.31   1480.90   79.27   79.20   79.35    0.79\n",
      "  0     800        277.44   1645.88   85.46   85.83   85.10    0.85\n",
      "  0    1000        182.24   1746.97   88.34   88.77   87.93    0.88\n",
      "  0    1200        217.92   1746.43   92.03   92.45   91.61    0.92\n",
      "  1    1400        260.58   1556.16   93.87   93.90   93.84    0.94\n",
      "  1    1600        332.66   1603.95   95.20   95.25   95.16    0.95\n",
      "  2    1800        496.99   1846.94   97.64   97.58   97.71    0.98\n",
      "  2    2000        865.31   1175.35   98.30   98.33   98.27    0.98\n",
      "  3    2200        798.09   1224.73   98.18   97.97   98.40    0.98\n",
      "  4    2400        574.31   1017.77   99.21   99.28   99.15    0.99\n",
      "  4    2600        550.02    773.24   99.26   99.31   99.21    0.99\n",
      "  5    2800        563.10    605.14   99.09   99.31   98.87    0.99\n",
      "  6    3000        641.80    620.69   99.31   99.28   99.34    0.99\n",
      "  7    3200        560.66    515.75   99.62   99.72   99.53    1.00\n",
      "  8    3400        613.08    520.23   99.32   99.43   99.21    0.99\n",
      "  9    3600        625.86    442.91   99.72   99.69   99.75    1.00\n",
      "  9    3800        712.90    419.01   99.42   99.47   99.37    0.99\n",
      " 10    4000        686.23    344.88   99.43   99.53   99.34    0.99\n",
      " 11    4200        750.19    373.88   99.78   99.84   99.72    1.00\n",
      " 12    4400        793.91    375.07   99.72   99.75   99.69    1.00\n",
      " 13    4600        720.12    344.98   99.56   99.62   99.50    1.00\n",
      " 14    4800        805.73    335.29   99.75   99.78   99.72    1.00\n",
      " 14    5000        869.94    307.80   99.69   99.62   99.75    1.00\n",
      " 15    5200        900.32    300.95   99.83   99.81   99.84    1.00\n",
      " 16    5400       4668.50    361.78   99.64   99.62   99.65    1.00\n",
      " 17    5600        938.91    293.24   99.91   99.97   99.84    1.00\n",
      " 18    5800        915.93    242.32   99.80   99.78   99.81    1.00\n",
      " 19    6000       1009.25    250.76   99.89   99.94   99.84    1.00\n",
      " 20    6200       1081.91    238.33   99.86   99.87   99.84    1.00\n",
      " 20    6400       1226.24    268.10   99.84   99.87   99.81    1.00\n",
      " 21    6600        959.28    204.41   99.92  100.00   99.84    1.00\n",
      " 22    6800       1120.31    236.36   99.76   99.81   99.72    1.00\n",
      " 23    7000       1020.47    232.67   99.80   99.87   99.72    1.00\n",
      " 24    7200       1033.48    207.25   99.92   99.97   99.87    1.00\n",
      " 25    7400       1024.33    176.79   99.86   99.91   99.81    1.00\n",
      " 25    7600       1163.93    193.33   99.98  100.00   99.97    1.00\n",
      " 26    7800        951.36    167.69   99.78   99.81   99.75    1.00\n",
      " 27    8000        933.96    152.57   99.86   99.78   99.94    1.00\n",
      " 28    8200       1160.34    174.16   99.81   99.84   99.78    1.00\n",
      " 29    8400       1163.18    172.44   99.95   99.97   99.94    1.00\n",
      " 30    8600       1021.12    157.55   99.89   99.94   99.84    1.00\n",
      " 30    8800       1406.11    202.83   99.83   99.84   99.81    1.00\n",
      " 31    9000       1076.48    163.04   99.83   99.81   99.84    1.00\n",
      " 32    9200       1189.93    164.16   99.80   99.81   99.78    1.00\n",
      "\u001b[38;5;2m✔ Saved pipeline to output directory\u001b[0m\n",
      "model_tok2vec\\model-last\n"
     ]
    }
   ],
   "source": [
    "!python -m spacy train ./config.cfg \\\n",
    "  --output ./model_tok2vec \\\n",
    "  --paths.train ./spacy/train.spacy \\\n",
    "  --paths.dev ./spacy/dev.spacy "
   ]
  },
  {
   "cell_type": "markdown",
   "id": "946d239d",
   "metadata": {},
   "source": [
    "# ARQUIVO DE CONFIG GPU"
   ]
  },
  {
   "cell_type": "code",
   "execution_count": 10,
   "id": "826780b4",
   "metadata": {},
   "outputs": [
    {
     "name": "stdout",
     "output_type": "stream",
     "text": [
      "\u001b[38;5;4mℹ Generated config template specific for your use case\u001b[0m\n",
      "- Language: pt\n",
      "- Pipeline: ner\n",
      "- Optimize for: accuracy\n",
      "- Hardware: GPU\n",
      "- Transformer: neuralmind/bert-base-portuguese-cased\n",
      "\u001b[38;5;2m✔ Auto-filled config with all values\u001b[0m\n",
      "\u001b[38;5;2m✔ Saved config\u001b[0m\n",
      "config_trf.cfg\n",
      "You can now add your data and train your pipeline:\n",
      "python -m spacy train config_trf.cfg --paths.train ./train.spacy --paths.dev ./dev.spacy\n"
     ]
    }
   ],
   "source": [
    "!python -m spacy init config ./config_trf.cfg --lang pt --pipeline transformer,ner --optimize accuracy --force --gpu"
   ]
  },
  {
   "cell_type": "markdown",
   "id": "bf8e7f78",
   "metadata": {},
   "source": [
    "# INICIAR TREINAMENTO"
   ]
  },
  {
   "cell_type": "code",
   "execution_count": 12,
   "id": "78f7ae01",
   "metadata": {},
   "outputs": [
    {
     "name": "stdout",
     "output_type": "stream",
     "text": [
      "\u001b[38;5;4mℹ Saving to output directory: model_trf_gpu\u001b[0m\n",
      "\u001b[38;5;4mℹ Using GPU: 0\u001b[0m\n",
      "\u001b[1m\n",
      "=========================== Initializing pipeline ===========================\u001b[0m\n",
      "\u001b[38;5;2m✔ Initialized pipeline\u001b[0m\n",
      "\u001b[1m\n",
      "============================= Training pipeline =============================\u001b[0m\n",
      "\u001b[38;5;4mℹ Pipeline: ['transformer', 'ner']\u001b[0m\n",
      "\u001b[38;5;4mℹ Initial learn rate: 0.0\u001b[0m\n",
      "E    #       LOSS TRANS...  LOSS NER  ENTS_F  ENTS_P  ENTS_R  SCORE \n",
      "---  ------  -------------  --------  ------  ------  ------  ------\n",
      "  0       0         217.30    267.53   12.07    6.79   54.13    0.12\n",
      "  1     200       50866.81  60026.18   96.74   96.79   96.70    0.97\n",
      "  2     400        1102.20   2179.31   97.94   98.63   97.27    0.98\n",
      "  3     600         640.01   1226.65   98.71   98.74   98.68    0.99\n",
      "  5     800         411.31    738.09   99.07   99.09   99.06    0.99\n",
      "  6    1000         313.68    519.07   99.64   99.56   99.72    1.00\n",
      "  7    1200         177.70    343.18   99.76   99.81   99.72    1.00\n",
      "  8    1400         185.11    312.08   99.69   99.65   99.72    1.00\n",
      " 10    1600         159.99    268.84   99.72   99.65   99.78    1.00\n",
      " 11    1800         150.78    211.86   99.80   99.69   99.91    1.00\n",
      " 12    2000         139.84    185.56   99.87   99.84   99.91    1.00\n",
      " 13    2200          95.02    139.77   99.59   99.65   99.53    1.00\n",
      " 14    2400         115.63    163.78   99.81   99.78   99.84    1.00\n",
      " 16    2600          58.03     97.73   99.91   99.81  100.00    1.00\n",
      " 17    2800          62.05     89.01   99.91   99.81  100.00    1.00\n",
      " 18    3000          72.90    114.08   99.95   99.91  100.00    1.00\n",
      " 19    3200          44.22     75.72   99.97   99.94  100.00    1.00\n",
      " 21    3400          54.87     74.56   99.94   99.91   99.97    1.00\n",
      " 22    3600          44.67     63.06   99.94   99.91   99.97    1.00\n",
      " 23    3800          75.20     92.54   99.94   99.87  100.00    1.00\n",
      " 24    4000          29.84     49.88   99.86   99.84   99.87    1.00\n",
      " 26    4200         115.08    113.73   99.95   99.91  100.00    1.00\n",
      " 27    4400          50.65     59.46   99.97   99.94  100.00    1.00\n",
      " 28    4600          25.90     39.68   99.94   99.87  100.00    1.00\n",
      " 29    4800          53.85     63.07   99.95   99.94   99.97    1.00\n",
      "\u001b[38;5;2m✔ Saved pipeline to output directory\u001b[0m\n",
      "model_trf_gpu\\model-last\n"
     ]
    }
   ],
   "source": [
    "!python -m spacy train ./config_trf.cfg \\\n",
    "  --output ./model_trf_gpu \\\n",
    "  --paths.train ./spacy/train.spacy \\\n",
    "  --paths.dev ./spacy/dev.spacy \\\n",
    "  --gpu-id 0"
   ]
  },
  {
   "cell_type": "markdown",
   "id": "4ecd8871",
   "metadata": {},
   "source": [
    "# Inferencia"
   ]
  },
  {
   "cell_type": "code",
   "execution_count": 18,
   "id": "03b1d2ac",
   "metadata": {},
   "outputs": [
    {
     "name": "stdout",
     "output_type": "stream",
     "text": [
      "()\n"
     ]
    },
    {
     "name": "stderr",
     "output_type": "stream",
     "text": [
      "c:\\Users\\mathe\\OneDrive\\Desktop\\git\\a\\.venv\\lib\\site-packages\\spacy\\util.py:1751: UserWarning: [W111] Jupyter notebook detected: if using `prefer_gpu()` or `require_gpu()`, include it in the same cell right before `spacy.load()` to ensure that the model is loaded on the correct device. More information: http://spacy.io/usage/v3#jupyter-notebook-gpu\n",
      "  warnings.warn(Warnings.W111)\n"
     ]
    }
   ],
   "source": [
    "import spacy\n",
    "\n",
    "nlp = spacy.load(\"./model_tok2vec/model-best\")\n",
    "doc = nlp(\"O spaCy é ótimo para processamento de linguagem natural.\")\n",
    "print(doc.ents)"
   ]
  },
  {
   "cell_type": "code",
   "execution_count": null,
   "id": "de371746",
   "metadata": {},
   "outputs": [],
   "source": []
  },
  {
   "cell_type": "code",
   "execution_count": null,
   "id": "230c0c2a",
   "metadata": {},
   "outputs": [],
   "source": []
  },
  {
   "cell_type": "code",
   "execution_count": null,
   "id": "0efd6f83",
   "metadata": {},
   "outputs": [],
   "source": []
  }
 ],
 "metadata": {
  "kernelspec": {
   "display_name": ".venv",
   "language": "python",
   "name": "python3"
  },
  "language_info": {
   "codemirror_mode": {
    "name": "ipython",
    "version": 3
   },
   "file_extension": ".py",
   "mimetype": "text/x-python",
   "name": "python",
   "nbconvert_exporter": "python",
   "pygments_lexer": "ipython3",
   "version": "3.10.0"
  }
 },
 "nbformat": 4,
 "nbformat_minor": 5
}
