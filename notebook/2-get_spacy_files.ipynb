{
  "cells": [
    {
      "cell_type": "code",
      "execution_count": null,
      "metadata": {},
      "outputs": [],
      "source": [
        "import pandas as pd\n",
        "import spacy\n",
        "from spacy.tokens import DocBin\n",
        "from tqdm import tqdm"
      ]
    },
    {
      "cell_type": "code",
      "execution_count": 5,
      "metadata": {},
      "outputs": [],
      "source": [
        "prqt = pd.read_parquet('../data/parquet/MultL/train_pt_multilingual.parquet', engine='fastparquet')"
      ]
    },
    {
      "cell_type": "code",
      "execution_count": 8,
      "metadata": {},
      "outputs": [],
      "source": [
        "def map_tag(tag_id):\n",
        "    if tag_id in range(1, 3):\n",
        "        return \"PER\"\n",
        "    elif tag_id in range(3, 5):\n",
        "        return \"ORG\"\n",
        "    elif tag_id in range(5, 7):\n",
        "        return \"LOC\"\n",
        "    elif tag_id in range(7, 9):\n",
        "        return \"MIST\"\n",
        "    else:\n",
        "        return \"O\"\n",
        "\n",
        "def map_tag_MultL(tag_id):\n",
        "    if tag_id in range(1, 3):\n",
        "        return \"PER\"\n",
        "    elif tag_id in range(3, 5):\n",
        "        return \"ORG\"\n",
        "    elif tag_id in range(5, 7):\n",
        "        return \"LOC\"\n",
        "    elif tag_id in range(7, 9):\n",
        "        return \"MIST\"\n",
        "    else:\n",
        "        return \"O\"\n",
        "\n",
        "def map_tag_LeNER(tag_id: int) -> str:\n",
        "    if tag_id == 0:\n",
        "        return \"O\"\n",
        "    elif tag_id in range(1, 3):\n",
        "        return \"ORG\"\n",
        "    elif tag_id in range(3, 5):\n",
        "        return \"PER\"    \n",
        "    elif tag_id in range(7, 9):\n",
        "        return \"LOC\"\n",
        "    elif tag_id in range(5, 7) or tag_id in range(9, 13):\n",
        "        return \"MIST\"\n",
        "    else:\n",
        "        return \"O\"\n",
        "\n",
        "def map_tag_HAREM(tag_id: int) -> str:\n",
        "    if tag_id == 0:\n",
        "        return \"O\"\n",
        "    elif tag_id in range(1, 3):\n",
        "        return \"PER\"\n",
        "    elif tag_id in range(3, 5):\n",
        "        return \"ORG\"\n",
        "    elif tag_id in range(5, 7):\n",
        "        return \"LOC\"\n",
        "    elif tag_id in range(7, 21):\n",
        "        return \"MIST\"\n",
        "    else:\n",
        "        return \"O\""
      ]
    },
    {
      "cell_type": "code",
      "execution_count": null,
      "metadata": {},
      "outputs": [],
      "source": [
        "def convert_tokens_to_spacy_format(tokens, tags):\n",
        "    text = \"\"\n",
        "    entities = []\n",
        "\n",
        "    for i, (token, tag_id) in enumerate(zip(tokens, tags)):\n",
        "        tag = map_tag(tag_id)\n",
        "\n",
        "        # Calcula os offsets\n",
        "        start = len(text)\n",
        "        text += token\n",
        "        end = len(text)\n",
        "\n",
        "        if i < len(tokens) - 1:\n",
        "            text += \" \"\n",
        "\n",
        "        if tag != \"O\":\n",
        "            # Se for entidade, adiciona aos spans\n",
        "            entities.append((start, end, tag))\n",
        "\n",
        "    return (text.strip(), {\"entities\": entities})\n",
        "\n",
        "def convert_tokens_to_spacy_format_by_dataset(tokens, tags, mapping: callable):\n",
        "    text = \"\"\n",
        "    entities = []\n",
        "\n",
        "    for i, (token, tag_id) in enumerate(zip(tokens, tags)):\n",
        "        tag = mapping(tag_id)\n",
        "\n",
        "        # Calcula os offsets\n",
        "        start = len(text)\n",
        "        text += token\n",
        "        end = len(text)\n",
        "\n",
        "        if i < len(tokens) - 1:\n",
        "            text += \" \"\n",
        "\n",
        "        if tag != \"O\":\n",
        "            # Se for entidade, adiciona aos spans\n",
        "            entities.append((start, end, tag))\n",
        "\n",
        "    return (text.strip(), {\"entities\": entities})"
      ]
    },
    {
      "cell_type": "code",
      "execution_count": 11,
      "metadata": {},
      "outputs": [],
      "source": [
        "data_spacy = [\n",
        "    convert_tokens_to_spacy_format_by_dataset(row[\"tokens\"], row[\"ner_tags\"], map_tag_MultL)\n",
        "    for _, row in prqt.iterrows()\n",
        "]"
      ]
    },
    {
      "cell_type": "code",
      "execution_count": 13,
      "metadata": {},
      "outputs": [
        {
          "data": {
            "text/plain": [
              "[1, 2]"
            ]
          },
          "execution_count": 13,
          "metadata": {},
          "output_type": "execute_result"
        }
      ],
      "source": [
        "a = [1]\n",
        "b = [2]\n",
        "\n",
        "a+b"
      ]
    },
    {
      "cell_type": "code",
      "execution_count": 22,
      "metadata": {},
      "outputs": [],
      "source": [
        "n = len(data_spacy)\n",
        "split = int(n * 0.9)\n",
        "train_data = data_spacy[:split]   # 90%\n",
        "dev_data   = data_spacy[split:]   # 10% restante"
      ]
    },
    {
      "cell_type": "code",
      "execution_count": 23,
      "metadata": {},
      "outputs": [],
      "source": [
        "def create_docbin(data, file_path):\n",
        "    nlp = spacy.blank(\"pt\")\n",
        "    db = DocBin()\n",
        "\n",
        "    print(f\"Gerando dados para {file_path}...\")\n",
        "    for text, annot in tqdm(data):\n",
        "        doc = nlp.make_doc(text)\n",
        "        ents = []\n",
        "        for start, end, label in annot[\"entities\"]:\n",
        "            span = doc.char_span(start, end, label=label)\n",
        "            if span is not None:\n",
        "                ents.append(span)\n",
        "        doc.ents = ents\n",
        "        db.add(doc)\n",
        "\n",
        "    db.to_disk(file_path)\n",
        "    print(f\"Dados salvos em '{file_path}'\")"
      ]
    },
    {
      "cell_type": "code",
      "execution_count": 24,
      "metadata": {},
      "outputs": [
        {
          "name": "stderr",
          "output_type": "stream",
          "text": [
            "c:\\Users\\mathe\\OneDrive\\Desktop\\git\\codigos\\faculdade\\bigdata-tmp\\venv\\lib\\site-packages\\spacy\\util.py:1751: UserWarning: [W111] Jupyter notebook detected: if using `prefer_gpu()` or `require_gpu()`, include it in the same cell right before `spacy.load()` to ensure that the model is loaded on the correct device. More information: http://spacy.io/usage/v3#jupyter-notebook-gpu\n",
            "  warnings.warn(Warnings.W111)\n"
          ]
        },
        {
          "name": "stdout",
          "output_type": "stream",
          "text": [
            "Gerando dados para ../spacy/train.spacy...\n"
          ]
        },
        {
          "name": "stderr",
          "output_type": "stream",
          "text": [
            "100%|██████████| 217512/217512 [00:14<00:00, 15138.02it/s]\n"
          ]
        },
        {
          "name": "stdout",
          "output_type": "stream",
          "text": [
            "Dados salvos em '../spacy/train.spacy'\n",
            "Gerando dados para ../spacy/dev.spacy...\n"
          ]
        },
        {
          "name": "stderr",
          "output_type": "stream",
          "text": [
            "100%|██████████| 24168/24168 [00:01<00:00, 13080.19it/s]\n"
          ]
        },
        {
          "name": "stdout",
          "output_type": "stream",
          "text": [
            "Dados salvos em '../spacy/dev.spacy'\n"
          ]
        }
      ],
      "source": [
        "create_docbin(train_data, \"../spacy/train.spacy\")\n",
        "train_data.clear()\n",
        "create_docbin(dev_data, \"../spacy/dev.spacy\")\n",
        "dev_data.clear()"
      ]
    }
  ],
  "metadata": {
    "colab": {
      "provenance": []
    },
    "kernelspec": {
      "display_name": "venv",
      "language": "python",
      "name": "python3"
    },
    "language_info": {
      "codemirror_mode": {
        "name": "ipython",
        "version": 3
      },
      "file_extension": ".py",
      "mimetype": "text/x-python",
      "name": "python",
      "nbconvert_exporter": "python",
      "pygments_lexer": "ipython3",
      "version": "3.10.0"
    }
  },
  "nbformat": 4,
  "nbformat_minor": 0
}
