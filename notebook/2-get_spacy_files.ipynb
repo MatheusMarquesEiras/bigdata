{
  "cells": [
    {
      "cell_type": "code",
      "execution_count": 45,
      "metadata": {},
      "outputs": [],
      "source": [
        "import pandas as pd\n",
        "import spacy\n",
        "from spacy.tokens import DocBin\n",
        "from tqdm import tqdm"
      ]
    },
    {
      "cell_type": "code",
      "execution_count": 46,
      "metadata": {},
      "outputs": [],
      "source": [
        "prqt_MultL_test = pd.read_parquet('../data/parquet/MultL/test_pt_MultL.parquet')\n",
        "prqt_MultL_val = pd.read_parquet('../data/parquet/MultL/val_pt_MultL.parquet')\n",
        "prqt_MultL_dev = pd.concat([prqt_MultL_test, prqt_MultL_val], ignore_index=True)\n",
        "\n",
        "prqt_MultL_train = pd.read_parquet('../data/parquet/MultL/train_pt_MultL.parquet')"
      ]
    },
    {
      "cell_type": "code",
      "execution_count": 47,
      "metadata": {},
      "outputs": [],
      "source": [
        "prqt_LeNER_test = pd.read_parquet('../data/parquet/LeNER-Br/test_pt_LeNER-Br.parquet')\n",
        "prqt_LeNER_val = pd.read_parquet('../data/parquet/LeNER-Br/dev_pt_LeNER-Br.parquet')\n",
        "prqt_LeNER_dev = pd.concat([prqt_LeNER_test, prqt_LeNER_val], ignore_index=True)\n",
        "\n",
        "prqt_LeNER_train = pd.read_parquet('../data/parquet/LeNER-Br/train_pt_LeNER-Br.parquet')"
      ]
    },
    {
      "cell_type": "code",
      "execution_count": 48,
      "metadata": {},
      "outputs": [],
      "source": [
        "def get_meaning_label_HAREM(text):\n",
        "    if text == 'LOCAL':\n",
        "        return 'LOC'\n",
        "    elif text == 'ORGANIZACAO':\n",
        "        return 'ORG'\n",
        "    elif text == 'PESSOA':\n",
        "        return 'PER'\n",
        "    else:\n",
        "        return 'MIST'\n",
        "    \n",
        "def list_to_entity_dict_HAREM(list_items: list):\n",
        "    list_entities = []\n",
        "    for item in list_items:\n",
        "        list_entities.append((item['start_offset'], item['end_offset'], get_meaning_label_HAREM(item['label'])))\n",
        "    \n",
        "    return list_entities"
      ]
    },
    {
      "cell_type": "code",
      "execution_count": 49,
      "metadata": {},
      "outputs": [],
      "source": [
        "mini_HAREM = pd.read_parquet('../data/parquet/HAREM/mini_HAREM.parquet')\n",
        "first_HAREM_val = pd.read_parquet('../data/parquet/HAREM/primeiro_HAREM.parquet')\n",
        "second_HAREM_train = pd.read_parquet('../data/parquet/HAREM/segundo_HAREM.parquet')\n",
        "\n",
        "all_HAREM = pd.concat([mini_HAREM, first_HAREM_val, second_HAREM_train], ignore_index=True)\n",
        "all_HAREM['entities'] = all_HAREM['entities'].apply(list_to_entity_dict_HAREM)\n",
        "\n",
        "dev_HAREM = all_HAREM.sample(frac=0.1, random_state=42)\n",
        "train_HAREM = all_HAREM.drop(dev_HAREM.index)"
      ]
    },
    {
      "cell_type": "code",
      "execution_count": 50,
      "metadata": {},
      "outputs": [],
      "source": [
        "def map_tag_MultL(tag_id):\n",
        "    if tag_id in range(1, 3):\n",
        "        return \"PER\"\n",
        "    elif tag_id in range(3, 5):\n",
        "        return \"ORG\"\n",
        "    elif tag_id in range(5, 7):\n",
        "        return \"LOC\"\n",
        "    elif tag_id in range(7, 9):\n",
        "        return \"MIST\"\n",
        "    else:\n",
        "        return \"O\"\n",
        "\n",
        "def map_tag_LeNER(tag_id):\n",
        "    if tag_id == 0:\n",
        "        return \"O\"\n",
        "    elif tag_id in range(1, 3):\n",
        "        return \"ORG\"\n",
        "    elif tag_id in range(3, 5):\n",
        "        return \"PER\"    \n",
        "    elif tag_id in range(7, 9):\n",
        "        return \"LOC\"\n",
        "    elif tag_id in range(5, 7) or tag_id in range(9, 13):\n",
        "        return \"MIST\"\n",
        "    else:\n",
        "        return \"O\"\n",
        "    \n",
        "def convert_tokens_to_spacy_format_by_dataset(tokens, tags, mapping: callable):\n",
        "    text = \"\"\n",
        "    entities = []\n",
        "\n",
        "    for i, (token, tag_id) in enumerate(zip(tokens, tags)):\n",
        "        tag = mapping(tag_id)\n",
        "\n",
        "        # Calcula os offsets\n",
        "        start = len(text)\n",
        "        text += token\n",
        "        end = len(text)\n",
        "\n",
        "        if i < len(tokens) - 1:\n",
        "            text += \" \"\n",
        "\n",
        "        if tag != \"O\":\n",
        "            # Se for entidade, adiciona aos spans\n",
        "            entities.append((start, end, tag))\n",
        "\n",
        "    return (text.strip(), {\"entities\": entities})"
      ]
    },
    {
      "cell_type": "code",
      "execution_count": 51,
      "metadata": {},
      "outputs": [],
      "source": [
        "data_spacy_dev_MultL = [\n",
        "    convert_tokens_to_spacy_format_by_dataset(row[\"tokens\"], row[\"ner_tags\"], map_tag_MultL)\n",
        "    for _, row in prqt_MultL_dev.iterrows()\n",
        "]\n",
        "\n",
        "data_spacy_train_MultL = [\n",
        "    convert_tokens_to_spacy_format_by_dataset(row[\"tokens\"], row[\"ner_tags\"], map_tag_MultL)\n",
        "    for _, row in prqt_MultL_train.iterrows()\n",
        "]"
      ]
    },
    {
      "cell_type": "code",
      "execution_count": 52,
      "metadata": {},
      "outputs": [],
      "source": [
        "data_spacy_dev_LeNER = [\n",
        "    convert_tokens_to_spacy_format_by_dataset(row[\"tokens\"], row[\"ner_tags\"], map_tag_LeNER)\n",
        "    for _, row in prqt_LeNER_dev.iterrows()\n",
        "]\n",
        "\n",
        "data_spacy_train_LeNER = [\n",
        "    convert_tokens_to_spacy_format_by_dataset(row[\"tokens\"], row[\"ner_tags\"], map_tag_LeNER)\n",
        "    for _, row in prqt_LeNER_train.iterrows()\n",
        "]"
      ]
    },
    {
      "cell_type": "code",
      "execution_count": 53,
      "metadata": {},
      "outputs": [],
      "source": [
        "data_spacy_dev_HAREM = [\n",
        "    (row[\"phase\"], {\"entities\": row[\"entities\"]})\n",
        "    for _, row in dev_HAREM.iterrows()\n",
        "]\n",
        "\n",
        "data_spacy_train_HAREM = [\n",
        "    (row[\"phase\"], {\"entities\": row[\"entities\"]})\n",
        "    for _, row in train_HAREM.iterrows()\n",
        "]"
      ]
    },
    {
      "cell_type": "code",
      "execution_count": 54,
      "metadata": {},
      "outputs": [],
      "source": [
        "train_data = data_spacy_train_HAREM + data_spacy_train_LeNER + data_spacy_train_MultL\n",
        "dev_data = data_spacy_dev_HAREM + data_spacy_dev_LeNER + data_spacy_dev_MultL"
      ]
    },
    {
      "cell_type": "code",
      "execution_count": 55,
      "metadata": {},
      "outputs": [],
      "source": [
        "def create_docbin(data, file_path):\n",
        "    nlp = spacy.blank(\"pt\")\n",
        "    db = DocBin()\n",
        "\n",
        "    print(f\"Gerando dados para {file_path}...\")\n",
        "    for text, annot in tqdm(data):\n",
        "        doc = nlp.make_doc(text)\n",
        "        ents = []\n",
        "        for start, end, label in annot[\"entities\"]:\n",
        "            span = doc.char_span(start, end, label=label)\n",
        "            if span is not None:\n",
        "                ents.append(span)\n",
        "        doc.ents = ents\n",
        "        db.add(doc)\n",
        "\n",
        "    db.to_disk(file_path)\n",
        "    print(f\"Dados salvos em '{file_path}'\")"
      ]
    },
    {
      "cell_type": "code",
      "execution_count": 56,
      "metadata": {},
      "outputs": [
        {
          "name": "stderr",
          "output_type": "stream",
          "text": [
            "c:\\Users\\mathe\\OneDrive\\Desktop\\git\\codigos\\faculdade\\bigdata-tmp\\venv\\lib\\site-packages\\spacy\\util.py:1751: UserWarning: [W111] Jupyter notebook detected: if using `prefer_gpu()` or `require_gpu()`, include it in the same cell right before `spacy.load()` to ensure that the model is loaded on the correct device. More information: http://spacy.io/usage/v3#jupyter-notebook-gpu\n",
            "  warnings.warn(Warnings.W111)\n"
          ]
        },
        {
          "name": "stdout",
          "output_type": "stream",
          "text": [
            "Gerando dados para ../spacy/train.spacy...\n"
          ]
        },
        {
          "name": "stderr",
          "output_type": "stream",
          "text": [
            "100%|██████████| 88734/88734 [00:08<00:00, 10158.21it/s]\n"
          ]
        },
        {
          "name": "stdout",
          "output_type": "stream",
          "text": [
            "Dados salvos em '../spacy/train.spacy'\n",
            "Gerando dados para ../spacy/dev.spacy...\n"
          ]
        },
        {
          "name": "stderr",
          "output_type": "stream",
          "text": [
            "100%|██████████| 22834/22834 [00:02<00:00, 9394.67it/s] \n"
          ]
        },
        {
          "name": "stdout",
          "output_type": "stream",
          "text": [
            "Dados salvos em '../spacy/dev.spacy'\n"
          ]
        }
      ],
      "source": [
        "create_docbin(train_data, \"../spacy/train.spacy\")\n",
        "train_data.clear()\n",
        "create_docbin(dev_data, \"../spacy/dev.spacy\")\n",
        "dev_data.clear()"
      ]
    }
  ],
  "metadata": {
    "colab": {
      "provenance": []
    },
    "kernelspec": {
      "display_name": "venv",
      "language": "python",
      "name": "python3"
    },
    "language_info": {
      "codemirror_mode": {
        "name": "ipython",
        "version": 3
      },
      "file_extension": ".py",
      "mimetype": "text/x-python",
      "name": "python",
      "nbconvert_exporter": "python",
      "pygments_lexer": "ipython3",
      "version": "3.10.0"
    }
  },
  "nbformat": 4,
  "nbformat_minor": 0
}
