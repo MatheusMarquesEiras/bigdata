{
 "cells": [
  {
   "cell_type": "code",
   "execution_count": 23,
   "id": "0476fa56",
   "metadata": {},
   "outputs": [],
   "source": [
    "import pandas as pd\n",
    "import ast"
   ]
  },
  {
   "cell_type": "code",
   "execution_count": 24,
   "id": "dbe800c4",
   "metadata": {},
   "outputs": [],
   "source": [
    "langs = ['pt', 'en', 'es']\n",
    "data_types = ['train', 'test', 'val']\n",
    "datasets = ['HAREM', 'LeNER-Br', 'MultL']"
   ]
  },
  {
   "cell_type": "code",
   "execution_count": 21,
   "id": "a3bf9951",
   "metadata": {},
   "outputs": [
    {
     "name": "stdout",
     "output_type": "stream",
     "text": [
      "['HAREM', 'LeNER-Br']\n",
      "['MultL']\n"
     ]
    }
   ],
   "source": [
    "print(datasets[:2])\n",
    "\n",
    "print(datasets[2:])"
   ]
  },
  {
   "cell_type": "code",
   "execution_count": 25,
   "id": "52fcb8fc",
   "metadata": {},
   "outputs": [],
   "source": [
    "def fix_list(text: str):\n",
    "    return ast.literal_eval(text.replace(' ', ','))"
   ]
  },
  {
   "cell_type": "code",
   "execution_count": 27,
   "id": "7199ecfb",
   "metadata": {},
   "outputs": [],
   "source": [
    "def clean_ellipsis(x):\n",
    "    if isinstance(x, list):\n",
    "        return [\"\" if item is Ellipsis else item for item in x]\n",
    "    return x"
   ]
  },
  {
   "cell_type": "code",
   "execution_count": 26,
   "id": "74e6c7a1",
   "metadata": {},
   "outputs": [],
   "source": [
    "for dataset in datasets[2:]:\n",
    "    for lang in langs:\n",
    "        for typ in data_types: \n",
    "            en = pd.read_csv(f'../data/csv/{dataset}/{typ}_{lang}.csv')\n",
    "            es = pd.read_csv(f'../data/csv/{dataset}/{typ}_{lang}.csv')\n",
    "            pt = pd.read_csv(f'../data/csv/{dataset}/{typ}_{lang}.csv')\n",
    "\n",
    "            multL = pd.concat([en, es, pt], ignore_index=True)\n",
    "\n",
    "            multL['tokens'] = multL['tokens'].apply(fix_list)\n",
    "            multL['ner_tags'] = multL['ner_tags'].apply(fix_list)\n",
    "\n",
    "            multL.to_parquet(f'../data/parquet/MultL/{typ}_{lang}_multilingual.parquet', engine='fastparquet', index=False)"
   ]
  },
  {
   "cell_type": "code",
   "execution_count": 31,
   "id": "b9bb1f38",
   "metadata": {},
   "outputs": [],
   "source": [
    "for dataset in datasets[:2]:\n",
    "    for typ in data_types:\n",
    "        data = pd.read_csv(f'../data/csv/{dataset}/{typ}.csv')\n",
    "\n",
    "        data['tokens'] = data['tokens'].apply(fix_list)\n",
    "        data['tokens'] = data['tokens'].apply(clean_ellipsis)\n",
    "\n",
    "        data.to_parquet(f\"../data/parquet/{dataset}/{typ}_{dataset}.parquet\", engine=\"fastparquet\", index=False)"
   ]
  }
 ],
 "metadata": {
  "kernelspec": {
   "display_name": "venv",
   "language": "python",
   "name": "python3"
  },
  "language_info": {
   "codemirror_mode": {
    "name": "ipython",
    "version": 3
   },
   "file_extension": ".py",
   "mimetype": "text/x-python",
   "name": "python",
   "nbconvert_exporter": "python",
   "pygments_lexer": "ipython3",
   "version": "3.10.0"
  }
 },
 "nbformat": 4,
 "nbformat_minor": 5
}
